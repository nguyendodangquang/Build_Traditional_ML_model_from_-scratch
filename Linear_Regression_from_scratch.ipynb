{
  "nbformat": 4,
  "nbformat_minor": 2,
  "metadata": {
    "colab": {
      "name": "5.3b_Linear Regression from scratch_(Lab).ipynb",
      "provenance": [],
      "collapsed_sections": [],
      "toc_visible": true
    },
    "kernelspec": {
      "display_name": "Python 3",
      "language": "python",
      "name": "python3"
    },
    "language_info": {
      "codemirror_mode": {
        "name": "ipython",
        "version": 3
      },
      "file_extension": ".py",
      "mimetype": "text/x-python",
      "name": "python",
      "nbconvert_exporter": "python",
      "pygments_lexer": "ipython3",
      "version": "3.7.4"
    }
  },
  "cells": [
    {
      "cell_type": "markdown",
      "source": [
        "# Lab - Linear Regression"
      ],
      "metadata": {
        "id": "yShVC06ke7__"
      }
    },
    {
      "cell_type": "code",
      "execution_count": null,
      "source": [
        "import numpy as np\r\n",
        "import pandas as pd\r\n",
        "import seaborn as sns\r\n",
        "import matplotlib.pyplot as plt\r\n",
        "%matplotlib inline\r\n",
        "\r\n",
        "import warnings\r\n",
        "warnings.filterwarnings('ignore')\r\n",
        "\r\n",
        "sns.set_style(\"whitegrid\")"
      ],
      "outputs": [],
      "metadata": {
        "id": "hT08pq4YfEPG"
      }
    },
    {
      "cell_type": "code",
      "execution_count": null,
      "source": [
        "from sklearn.linear_model import LinearRegression"
      ],
      "outputs": [],
      "metadata": {
        "id": "Myi94F9Nf8Lb"
      }
    },
    {
      "cell_type": "markdown",
      "source": [
        "## Linear Regression from scratch"
      ],
      "metadata": {
        "id": "A1aXBTr6h5Xe"
      }
    },
    {
      "cell_type": "markdown",
      "source": [
        "### Import data"
      ],
      "metadata": {
        "id": "sP00MP9Ki4qf"
      }
    },
    {
      "cell_type": "code",
      "execution_count": null,
      "source": [
        "\r\n",
        "df = pd.read_csv('https://raw.githubusercontent.com/dhminh1024/practice_datasets/master/linear_regression.csv')\r\n",
        "\r\n",
        "X = df[['TV']].values\r\n",
        "y = df[['Sales']].values\r\n",
        "\r\n",
        "plt.scatter(X, y, alpha=0.6)\r\n",
        "plt.xlabel('TV ads')\r\n",
        "plt.ylabel('Sales')\r\n",
        "plt.show()"
      ],
      "outputs": [
        {
          "output_type": "display_data",
          "data": {
            "text/plain": [
              "<Figure size 432x288 with 1 Axes>"
            ],
            "image/png": "[encoded data removed]"
          },
          "metadata": {
            "tags": []
          }
        }
      ],
      "metadata": {
        "id": "YL5OW2q0gqjp",
        "colab": {
          "base_uri": "https://localhost:8080/",
          "height": 279
        },
        "outputId": "a02df8d1-c4b3-4761-9c6a-ce77fcd09afe"
      }
    },
    {
      "cell_type": "code",
      "execution_count": null,
      "source": [
        "df.head()"
      ],
      "outputs": [
        {
          "output_type": "execute_result",
          "data": {
            "text/plain": [
              "   Unnamed: 0     TV  Radio  Newspaper  Sales\n",
              "0           1  230.1   37.8       69.2   22.1\n",
              "1           2   44.5   39.3       45.1   10.4\n",
              "2           3   17.2   45.9       69.3    9.3\n",
              "3           4  151.5   41.3       58.5   18.5\n",
              "4           5  180.8   10.8       58.4   12.9"
            ],
            "text/html": [
              "<div>\n",
              "<style scoped>\n",
              "    .dataframe tbody tr th:only-of-type {\n",
              "        vertical-align: middle;\n",
              "    }\n",
              "\n",
              "    .dataframe tbody tr th {\n",
              "        vertical-align: top;\n",
              "    }\n",
              "\n",
              "    .dataframe thead th {\n",
              "        text-align: right;\n",
              "    }\n",
              "</style>\n",
              "<table border=\"1\" class=\"dataframe\">\n",
              "  <thead>\n",
              "    <tr style=\"text-align: right;\">\n",
              "      <th></th>\n",
              "      <th>Unnamed: 0</th>\n",
              "      <th>TV</th>\n",
              "      <th>Radio</th>\n",
              "      <th>Newspaper</th>\n",
              "      <th>Sales</th>\n",
              "    </tr>\n",
              "  </thead>\n",
              "  <tbody>\n",
              "    <tr>\n",
              "      <th>0</th>\n",
              "      <td>1</td>\n",
              "      <td>230.1</td>\n",
              "      <td>37.8</td>\n",
              "      <td>69.2</td>\n",
              "      <td>22.1</td>\n",
              "    </tr>\n",
              "    <tr>\n",
              "      <th>1</th>\n",
              "      <td>2</td>\n",
              "      <td>44.5</td>\n",
              "      <td>39.3</td>\n",
              "      <td>45.1</td>\n",
              "      <td>10.4</td>\n",
              "    </tr>\n",
              "    <tr>\n",
              "      <th>2</th>\n",
              "      <td>3</td>\n",
              "      <td>17.2</td>\n",
              "      <td>45.9</td>\n",
              "      <td>69.3</td>\n",
              "      <td>9.3</td>\n",
              "    </tr>\n",
              "    <tr>\n",
              "      <th>3</th>\n",
              "      <td>4</td>\n",
              "      <td>151.5</td>\n",
              "      <td>41.3</td>\n",
              "      <td>58.5</td>\n",
              "      <td>18.5</td>\n",
              "    </tr>\n",
              "    <tr>\n",
              "      <th>4</th>\n",
              "      <td>5</td>\n",
              "      <td>180.8</td>\n",
              "      <td>10.8</td>\n",
              "      <td>58.4</td>\n",
              "      <td>12.9</td>\n",
              "    </tr>\n",
              "  </tbody>\n",
              "</table>\n",
              "</div>"
            ]
          },
          "metadata": {
            "tags": []
          },
          "execution_count": 153
        }
      ],
      "metadata": {
        "id": "D0WDzy_1bRYH",
        "colab": {
          "base_uri": "https://localhost:8080/",
          "height": 195
        },
        "outputId": "13ca92f4-1774-4b7f-97f4-26d4f2e52ed8"
      }
    },
    {
      "cell_type": "markdown",
      "source": [
        "### Implement Linear Regression with sklearn"
      ],
      "metadata": {
        "id": "5KgfGC7ejvO6"
      }
    },
    {
      "cell_type": "markdown",
      "source": [
        "We will build a Linear Regression model to predict `Sales` from the other features. Let's start with a Simple Linear Regression first: Use `TV` to predict `Sales`. We build the model using `sklearn.linear_model.LinearRegression` first, so that we can compare our result later on:"
      ],
      "metadata": {
        "id": "eUd2VHeiNDGi"
      }
    },
    {
      "cell_type": "code",
      "execution_count": null,
      "source": [
        "from sklearn.linear_model import LinearRegression\r\n",
        "from sklearn.metrics import mean_squared_error\r\n",
        "\r\n",
        "lg = LinearRegression()\r\n",
        "lg.fit(X, y)\r\n",
        "\r\n",
        "print(f'Coef: {lg.coef_}')\r\n",
        "print(f'Intercept: {lg.intercept_}')\r\n",
        "print(f'MSE: {mean_squared_error(y, lg.predict(X))}')\r\n",
        "\r\n",
        "plt.scatter(X, y, alpha=0.6)\r\n",
        "plt.plot(X, lg.predict(X), c='r')\r\n",
        "\r\n",
        "plt.show()"
      ],
      "outputs": [
        {
          "output_type": "stream",
          "name": "stdout",
          "text": [
            "Coef: [[0.04753664]]\n",
            "Intercept: [7.03259355]\n",
            "MSE: 10.512652915656757\n"
          ]
        },
        {
          "output_type": "display_data",
          "data": {
            "text/plain": [
              "<Figure size 432x288 with 1 Axes>"
            ],
            "image/png": "[encoded data removed]"
          },
          "metadata": {
            "tags": []
          }
        }
      ],
      "metadata": {
        "id": "4AQzCRFrjfXy",
        "colab": {
          "base_uri": "https://localhost:8080/",
          "height": 315
        },
        "outputId": "28b35255-7412-48a2-8493-6fc9f46ee5f7"
      }
    },
    {
      "cell_type": "markdown",
      "source": [
        "### Implement from scratch"
      ],
      "metadata": {
        "id": "0y5CfFQNlOZU"
      }
    },
    {
      "cell_type": "markdown",
      "source": [
        "**Gradient Descent algorithm:**\n",
        "\n",
        "1. Initialize $w^0$, $b^0$\n",
        "2. Repeate until converge: $\\begin{cases} \n",
        "w^{t+1}_j = w^t_j - \\alpha\\frac{\\partial L}{\\partial w_j} & for\\ j \\in \\{1, \\dots, n\\}\\\\\n",
        "b^{t+1} = b^t - \\alpha\\frac{\\partial L}{\\partial b}\n",
        "\\end{cases}$"
      ],
      "metadata": {
        "id": "vABzSBLfm8GM"
      }
    },
    {
      "cell_type": "code",
      "execution_count": null,
      "source": [
        "# Initialization\r\n",
        "def initialize_params(X):\r\n",
        "    '''Initialize w and b with zeros and return them. Note that b should be np.array of shape (1,1)'''\r\n",
        "    m,n = X.shape\r\n",
        "    w = np.zeros((n,1))\r\n",
        "    b = np.array([[0.0]])\r\n",
        "    return w, b\r\n",
        "\r\n",
        "# Standardization\r\n",
        "# Skip this for now\r\n",
        "x_mean = X.mean()\r\n",
        "x_std = X.std()\r\n",
        "X_scaled = (X - x_mean)/x_std\r\n",
        "\r\n"
      ],
      "outputs": [],
      "metadata": {
        "id": "20l0SmhKj4kV"
      }
    },
    {
      "cell_type": "markdown",
      "source": [
        "**Forward Propagation:**\n",
        "\n",
        "$$\n",
        "\\hat{y} = w_1x_1 + w_2x_2 + \\dots + w_nx_n + b = b + \\sum^n{w_ix_i} = w^Tx + b\n",
        "$$\n",
        "\n",
        "Vectorization (matrix multiplication)\n",
        "$$\n",
        "\\hat{y} = Xw + b\n",
        "$$"
      ],
      "metadata": {
        "id": "yt3EnQIXmo_m"
      }
    },
    {
      "cell_type": "code",
      "execution_count": null,
      "source": [
        "# Function for forward propagation\r\n",
        "def forward(X, w, b):\r\n",
        "    '''Return y_hat'''\r\n",
        "    y_hat = X @ w + b\r\n",
        "    # Your code here\r\n",
        "\r\n",
        "    return y_hat\r\n",
        "    "
      ],
      "outputs": [],
      "metadata": {
        "id": "rH3o1VBOlhfi"
      }
    },
    {
      "cell_type": "markdown",
      "source": [
        "**Loss function:**\n",
        "\n",
        "$$\n",
        "L(w, b) = \\frac{1}{m} \\sum_{i=1}^{m}{(\\hat{y}^{(i)} - y^{(i)})^2}\n",
        "$$"
      ],
      "metadata": {
        "id": "UbnPiQWsniEf"
      }
    },
    {
      "cell_type": "code",
      "execution_count": null,
      "source": [
        "# Funnction to calculate mean squared error\r\n",
        "def mse(y_hat, y):\r\n",
        "    # Your code here\r\n",
        "    # L = mean_squared_error(y, y_hat)\r\n",
        "    m,n = X.shape\r\n",
        "    L = (1/m)*np.sum((y_hat -y)**2)\r\n",
        "    return L"
      ],
      "outputs": [],
      "metadata": {
        "id": "eYQ9H6QKmBNu"
      }
    },
    {
      "cell_type": "markdown",
      "source": [
        "**Backward Propagation:**\n",
        "\n",
        "$$\n",
        "\\nabla{L} = \\frac{\\partial L}{\\partial w} = \\frac{2}{m} X^T . (\\hat{y} - y)\n",
        "$$\n",
        "<br/>\n",
        "$$\n",
        "\\frac{\\partial L}{\\partial b} = \\frac{2}{m} \\sum_{i=1}^{m}{(\\hat{y}^{(i)} - y^{(i)})}\n",
        "$$"
      ],
      "metadata": {
        "id": "q5g7vrDLm5A8"
      }
    },
    {
      "cell_type": "code",
      "execution_count": null,
      "source": [
        "# Function for backward propagation\r\n",
        "def backward(X, y, y_hat, w, b):\r\n",
        "    '''Calculate dw, db and return them'''\r\n",
        "    m,n = X.shape\r\n",
        "    dw = (2/m)*(X.T @ (y_hat - y))\r\n",
        "    db = (2/m)*np.sum((y_hat-y), keepdims=True)\r\n",
        "    return dw, db\r\n",
        "\r\n",
        "# Update parameters\r\n",
        "def update_params(w, b, dw, db, learning_rate):\r\n",
        "    '''Update w, b and return them'''\r\n",
        "    w = w - learning_rate * dw\r\n",
        "    b = b - learning_rate * db\r\n",
        "\r\n",
        "\r\n",
        "    return w, b"
      ],
      "outputs": [],
      "metadata": {
        "id": "7Bw2pLs9lmRf"
      }
    },
    {
      "cell_type": "markdown",
      "source": [
        "**Train model**"
      ],
      "metadata": {
        "id": "NuuL-l_4oEoW"
      }
    },
    {
      "cell_type": "code",
      "execution_count": null,
      "source": [
        "# Function for training model\r\n",
        "def train(X, y, iterations, learning_rate):\r\n",
        "    '''Train w, b and return'''\r\n",
        "    # Your code here\r\n",
        "\r\n",
        "    # Step 1: initialize the parameters\r\n",
        "    w,b = initialize_params(X)\r\n",
        "    # Step 2:\r\n",
        "    for i in range(iterations):\r\n",
        "      # Step 2a: forward pass\r\n",
        "      y_hat = forward(X, w, b)\r\n",
        "      # Step 2b: calculate loss\r\n",
        "      L = mse(y_hat, y)\r\n",
        "      # Step 2c: backward pass\r\n",
        "      dw, db = backward(X, y, y_hat, w, b)\r\n",
        "      # Step 2d: update params\r\n",
        "      w, b = update_params(w, b, dw, db, learning_rate)\r\n",
        "\r\n",
        "      if i % 100 == 0:\r\n",
        "        print(f'Step {i}, MSE = {L}')\r\n",
        "\r\n",
        "    return w, b"
      ],
      "outputs": [],
      "metadata": {
        "id": "CmEtiPMLoSS-"
      }
    },
    {
      "cell_type": "code",
      "execution_count": null,
      "source": [
        "# Setup learning rate & number of iterations\r\n",
        "# Your code here\r\n",
        "learning_rate = 0.000001\r\n",
        "iterations = 1000\r\n",
        "\r\n",
        "# train the model\r\n",
        "# Your code here\r\n",
        "w, b = train(X, y, iterations=iterations, learning_rate=learning_rate)"
      ],
      "outputs": [
        {
          "output_type": "stream",
          "name": "stdout",
          "text": [
            "Step 0, MSE = 223.71625\n",
            "Step 100, MSE = 23.03814221474233\n",
            "Step 200, MSE = 23.035552952300222\n",
            "Step 300, MSE = 23.034284281681867\n",
            "Step 400, MSE = 23.03301574827706\n",
            "Step 500, MSE = 23.031747343384083\n",
            "Step 600, MSE = 23.030479066989862\n",
            "Step 700, MSE = 23.02921091908136\n",
            "Step 800, MSE = 23.02794289964558\n",
            "Step 900, MSE = 23.026675008669503\n"
          ]
        }
      ],
      "metadata": {
        "id": "yfqTVaF4NDGw",
        "colab": {
          "base_uri": "https://localhost:8080/"
        },
        "outputId": "e140481d-bb75-4482-9aaa-955b4b1bfa38"
      }
    },
    {
      "cell_type": "markdown",
      "source": [
        "**Evaluation**"
      ],
      "metadata": {
        "id": "WkiOyrkkozPb"
      }
    },
    {
      "cell_type": "code",
      "execution_count": null,
      "source": [
        "# Prediction\r\n",
        "def predict(X, w, b):\r\n",
        "    '''Return predicted y with the input X'''\r\n",
        "    return forward(X,w,b)"
      ],
      "outputs": [],
      "metadata": {
        "id": "fNpj0z_TNDGz"
      }
    },
    {
      "cell_type": "code",
      "execution_count": null,
      "source": [
        "# Calculate y_hat from X with the parameters w, b that you have trained\r\n",
        "# Print out the MSE between y_hat and y\r\n",
        "y_hat = predict(X, w, b)\r\n",
        "print(mse(y_hat, y))"
      ],
      "outputs": [
        {
          "output_type": "stream",
          "name": "stdout",
          "text": [
            "23.025407246140112\n"
          ]
        }
      ],
      "metadata": {
        "id": "7BsQCzQTo4dy",
        "colab": {
          "base_uri": "https://localhost:8080/"
        },
        "outputId": "22a0618c-8d23-4a04-c27e-d277bb5f541b"
      }
    },
    {
      "cell_type": "code",
      "execution_count": null,
      "source": [
        "# Plot the data with your model\r\n",
        "plt.scatter(X, y, alpha=0.5) # the data\r\n",
        "plt.plot(X, y_hat, c='r') # the prediction\r\n",
        "plt.show()"
      ],
      "outputs": [
        {
          "output_type": "display_data",
          "data": {
            "text/plain": [
              "<Figure size 432x288 with 1 Axes>"
            ],
            "image/png": "[encoded data removed]"
          },
          "metadata": {
            "tags": []
          }
        }
      ],
      "metadata": {
        "id": "JNwEcBgqg-kQ",
        "colab": {
          "base_uri": "https://localhost:8080/",
          "height": 265
        },
        "outputId": "3b1bf6b6-cb17-4462-cc11-710f587b8a26"
      }
    },
    {
      "cell_type": "code",
      "execution_count": null,
      "source": [
        "# Print out the value of w and b\r\n",
        "print('Coef:', w)\r\n",
        "print('Intercept:', b)"
      ],
      "outputs": [
        {
          "output_type": "stream",
          "name": "stdout",
          "text": [
            "Coef: [[0.08322969]]\n",
            "Intercept: [[0.00398408]]\n"
          ]
        }
      ],
      "metadata": {
        "id": "jqY8A8uQhQa6",
        "colab": {
          "base_uri": "https://localhost:8080/"
        },
        "outputId": "1aa22053-0499-452f-cbc9-b082b291863e"
      }
    },
    {
      "cell_type": "code",
      "execution_count": null,
      "source": [
        "# Output from sklearn model\r\n",
        "# Coef: [[0.04753664]]\r\n",
        "# Intercept: [7.03259355]\r\n",
        "# MSE: 10.512652915656757"
      ],
      "outputs": [],
      "metadata": {
        "id": "rtrG7kdejBQ3"
      }
    },
    {
      "cell_type": "markdown",
      "source": [
        "## Multiple Linear Regression"
      ],
      "metadata": {
        "id": "pllm5sizmoMP"
      }
    },
    {
      "cell_type": "markdown",
      "source": [
        "Now let's move on to use all of the features to predict `Sales`"
      ],
      "metadata": {
        "id": "dfQcpQiUNDG_"
      }
    },
    {
      "cell_type": "code",
      "execution_count": null,
      "source": [
        "X = df[['TV', 'Radio', 'Newspaper']].values\r\n",
        "y = df[['Sales']].values"
      ],
      "outputs": [],
      "metadata": {
        "id": "i9O8EIwGmqxi"
      }
    },
    {
      "cell_type": "code",
      "execution_count": null,
      "source": [
        "# Standardization\r\n",
        "n = X.shape[1]\r\n",
        "x_mean = np.mean(X, axis = 0)\r\n",
        "x_std = np.std(X, axis = 0)\r\n",
        "X_scaled = (X - x_mean)/x_std\r\n",
        "X = X_scaled"
      ],
      "outputs": [],
      "metadata": {
        "id": "SgLHw5Qem04-"
      }
    },
    {
      "cell_type": "code",
      "execution_count": null,
      "source": [
        "# Train the model\r\n",
        "learning_rate = 1e-2\r\n",
        "iterations = 1000\r\n",
        "\r\n",
        "w, b = train(X, y, iterations=iterations, learning_rate=learning_rate)"
      ],
      "outputs": [
        {
          "output_type": "stream",
          "name": "stdout",
          "text": [
            "Step 0, MSE = 223.71625\n",
            "Step 100, MSE = 6.690824959092898\n",
            "Step 200, MSE = 2.8634788491760594\n",
            "Step 300, MSE = 2.7863351484203895\n",
            "Step 400, MSE = 2.7842254029659927\n",
            "Step 500, MSE = 2.7841325249785025\n",
            "Step 600, MSE = 2.784126755343399\n",
            "Step 700, MSE = 2.784126346881965\n",
            "Step 800, MSE = 2.784126316907958\n",
            "Step 900, MSE = 2.7841263146887885\n"
          ]
        }
      ],
      "metadata": {
        "id": "fgnc0I5ENDHD",
        "colab": {
          "base_uri": "https://localhost:8080/"
        },
        "outputId": "4e265e67-3797-40e6-f3f2-5b56365b1e95"
      }
    },
    {
      "cell_type": "code",
      "execution_count": null,
      "source": [
        "# Print out w and b\r\n",
        "print('Coef:', w) # Only use for X_scale, not for X\r\n",
        "print('Intercept:', b)"
      ],
      "outputs": [
        {
          "output_type": "stream",
          "name": "stdout",
          "text": [
            "Coef: [[ 3.91925363]\n",
            " [ 2.79205955]\n",
            " [-0.02253541]]\n",
            "Intercept: [[14.02249998]]\n"
          ]
        }
      ],
      "metadata": {
        "id": "jR8rTWJPnHYJ",
        "colab": {
          "base_uri": "https://localhost:8080/"
        },
        "outputId": "3a21c08d-aef7-4ae1-8726-e727fc58ffb2"
      }
    },
    {
      "cell_type": "code",
      "execution_count": null,
      "source": [
        "# Print out the mse of the model after training\r\n",
        "mse(predict(X, w, b), y)"
      ],
      "outputs": [
        {
          "output_type": "execute_result",
          "data": {
            "text/plain": [
              "2.7841263145241384"
            ]
          },
          "metadata": {
            "tags": []
          },
          "execution_count": 210
        }
      ],
      "metadata": {
        "id": "R2Th79CnnJ19",
        "colab": {
          "base_uri": "https://localhost:8080/"
        },
        "outputId": "6a84a1e4-063a-4a06-a169-de66629eb83e"
      }
    },
    {
      "cell_type": "code",
      "execution_count": null,
      "source": [
        "from sklearn.linear_model import LinearRegression"
      ],
      "outputs": [],
      "metadata": {
        "id": "AFsKOgm_f8Mb"
      }
    },
    {
      "cell_type": "code",
      "execution_count": null,
      "source": [
        "# Compare with the model from sklearn\r\n",
        "model = LinearRegression()\r\n",
        "model.fit(X, y)\r\n",
        "\r\n",
        "print(f'MSE: {mean_squared_error(y, model.predict(X))}')"
      ],
      "outputs": [
        {
          "output_type": "stream",
          "name": "stdout",
          "text": [
            "MSE: 2.784126314510936\n"
          ]
        }
      ],
      "metadata": {
        "id": "zQw8qSVHnMHI",
        "colab": {
          "base_uri": "https://localhost:8080/"
        },
        "outputId": "a86bdc25-6416-4d96-d47c-db2f55ffacca"
      }
    },
    {
      "cell_type": "code",
      "execution_count": null,
      "source": [
        "# Coef: [[ 3.91792832]\r\n",
        "#  [ 2.78417674]\r\n",
        "#  [-0.01432754]]"
      ],
      "outputs": [],
      "metadata": {
        "id": "uBH32hCZMuFL"
      }
    }
  ]
}