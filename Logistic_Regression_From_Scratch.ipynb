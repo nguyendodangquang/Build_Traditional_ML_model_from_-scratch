{
  "nbformat": 4,
  "nbformat_minor": 2,
  "metadata": {
    "colab": {
      "name": "5.4b_Logistic_Regression_From_Scratch_(Lab).ipynb",
      "provenance": [],
      "collapsed_sections": []
    },
    "kernelspec": {
      "display_name": "Python 3",
      "language": "python",
      "name": "python3"
    },
    "language_info": {
      "codemirror_mode": {
        "name": "ipython",
        "version": 3
      },
      "file_extension": ".py",
      "mimetype": "text/x-python",
      "name": "python",
      "nbconvert_exporter": "python",
      "pygments_lexer": "ipython3",
      "version": "3.7.4"
    }
  },
  "cells": [
    {
      "cell_type": "markdown",
      "source": [
        "# Lab - Logistic Regression"
      ],
      "metadata": {
        "id": "AbxAt696ms58"
      }
    },
    {
      "cell_type": "markdown",
      "source": [
        "## Logistic Regression from scratch"
      ],
      "metadata": {
        "id": "YkoZMtDfmyO7"
      }
    },
    {
      "cell_type": "code",
      "execution_count": null,
      "source": [
        "import numpy as np\r\n",
        "import pandas as pd\r\n",
        "import seaborn as sns\r\n",
        "import matplotlib.pyplot as plt\r\n",
        "%matplotlib inline\r\n",
        "\r\n",
        "import warnings\r\n",
        "warnings.filterwarnings('ignore')\r\n",
        "\r\n",
        "sns.set_style(\"whitegrid\")"
      ],
      "outputs": [],
      "metadata": {
        "id": "AaFlqj51nbGm"
      }
    },
    {
      "cell_type": "markdown",
      "source": [
        "Dataset **Titanic**"
      ],
      "metadata": {
        "id": "hEGtW99Am75l"
      }
    },
    {
      "cell_type": "code",
      "execution_count": null,
      "source": [
        "titanic = pd.read_csv('https://raw.githubusercontent.com/dhminh1024/practice_datasets/master/titanic.csv')\r\n",
        "\r\n",
        "# Data manipulation\r\n",
        "titanic.fillna(titanic['Age'].mean(), inplace=True)\r\n",
        "titanic.replace({'Sex':{'male':0, 'female':1}}, inplace=True)\r\n",
        "titanic['FamilySize'] = titanic['SibSp'] + titanic['Parch'] + 1\r\n",
        "titanic.drop(columns=['PassengerId', 'Name', 'SibSp', 'Parch', 'Ticket', 'Fare', 'Cabin', 'Embarked'], inplace=True)\r\n",
        "titanic.head()"
      ],
      "outputs": [
        {
          "output_type": "execute_result",
          "data": {
            "text/plain": [
              "   Survived  Pclass  Sex   Age  FamilySize\n",
              "0         0       3    0  22.0           2\n",
              "1         1       1    1  38.0           2\n",
              "2         1       3    1  26.0           1\n",
              "3         1       1    1  35.0           2\n",
              "4         0       3    0  35.0           1"
            ],
            "text/html": [
              "<div>\n",
              "<style scoped>\n",
              "    .dataframe tbody tr th:only-of-type {\n",
              "        vertical-align: middle;\n",
              "    }\n",
              "\n",
              "    .dataframe tbody tr th {\n",
              "        vertical-align: top;\n",
              "    }\n",
              "\n",
              "    .dataframe thead th {\n",
              "        text-align: right;\n",
              "    }\n",
              "</style>\n",
              "<table border=\"1\" class=\"dataframe\">\n",
              "  <thead>\n",
              "    <tr style=\"text-align: right;\">\n",
              "      <th></th>\n",
              "      <th>Survived</th>\n",
              "      <th>Pclass</th>\n",
              "      <th>Sex</th>\n",
              "      <th>Age</th>\n",
              "      <th>FamilySize</th>\n",
              "    </tr>\n",
              "  </thead>\n",
              "  <tbody>\n",
              "    <tr>\n",
              "      <th>0</th>\n",
              "      <td>0</td>\n",
              "      <td>3</td>\n",
              "      <td>0</td>\n",
              "      <td>22.0</td>\n",
              "      <td>2</td>\n",
              "    </tr>\n",
              "    <tr>\n",
              "      <th>1</th>\n",
              "      <td>1</td>\n",
              "      <td>1</td>\n",
              "      <td>1</td>\n",
              "      <td>38.0</td>\n",
              "      <td>2</td>\n",
              "    </tr>\n",
              "    <tr>\n",
              "      <th>2</th>\n",
              "      <td>1</td>\n",
              "      <td>3</td>\n",
              "      <td>1</td>\n",
              "      <td>26.0</td>\n",
              "      <td>1</td>\n",
              "    </tr>\n",
              "    <tr>\n",
              "      <th>3</th>\n",
              "      <td>1</td>\n",
              "      <td>1</td>\n",
              "      <td>1</td>\n",
              "      <td>35.0</td>\n",
              "      <td>2</td>\n",
              "    </tr>\n",
              "    <tr>\n",
              "      <th>4</th>\n",
              "      <td>0</td>\n",
              "      <td>3</td>\n",
              "      <td>0</td>\n",
              "      <td>35.0</td>\n",
              "      <td>1</td>\n",
              "    </tr>\n",
              "  </tbody>\n",
              "</table>\n",
              "</div>"
            ]
          },
          "metadata": {
            "tags": []
          },
          "execution_count": 33
        }
      ],
      "metadata": {
        "id": "6l2ZsmISOlGC",
        "colab": {
          "base_uri": "https://localhost:8080/",
          "height": 195
        },
        "outputId": "aecb53e5-cf27-46d3-8800-a7d03059d2a8"
      }
    },
    {
      "cell_type": "code",
      "execution_count": null,
      "source": [
        "from sklearn.model_selection import train_test_split\r\n",
        "\r\n",
        "X = titanic[titanic.columns[~titanic.columns.isin(['Survived'])]].values\r\n",
        "y = titanic[['Survived']].values\r\n"
      ],
      "outputs": [],
      "metadata": {
        "id": "vjGt2y_-pPHz"
      }
    },
    {
      "cell_type": "code",
      "execution_count": null,
      "source": [
        "\r\n",
        "X_train, X_test, y_train, y_test = train_test_split(X, y, test_size=0.2, random_state=102)\r\n",
        "\r\n",
        "print('Training set:', X_train.shape, y_train.shape)\r\n",
        "print('Test set:', X_test.shape, y_test.shape)"
      ],
      "outputs": [
        {
          "output_type": "stream",
          "name": "stdout",
          "text": [
            "Training set: (712, 4) (712, 1)\n",
            "Test set: (179, 4) (179, 1)\n"
          ]
        }
      ],
      "metadata": {
        "colab": {
          "base_uri": "https://localhost:8080/"
        },
        "id": "-NeIl8K9sozy",
        "outputId": "1ddf64c2-5fe1-4841-95bd-5fc8ca633d32"
      }
    },
    {
      "cell_type": "markdown",
      "source": [
        "### Scikit-learn Logistic Regression"
      ],
      "metadata": {
        "id": "S79QyfXSqeXj"
      }
    },
    {
      "cell_type": "code",
      "execution_count": null,
      "source": [
        "from sklearn.linear_model import LogisticRegression\r\n",
        "from sklearn.metrics import confusion_matrix, accuracy_score, classification_report\r\n",
        "from sklearn.metrics import log_loss\r\n",
        "\r\n",
        "# Create Logistics Regression model from X and y\r\n",
        "lg = LogisticRegression()\r\n",
        "lg.fit(X_train, y_train)\r\n",
        "train_predictions_label = lg.predict(X_train)\r\n",
        "train_predictions_proba = lg.predict_proba(X_train)\r\n",
        "test_predictions_label = lg.predict(X_test)\r\n",
        "test_predictions_proba = lg.predict_proba(X_test)\r\n"
      ],
      "outputs": [],
      "metadata": {
        "id": "Ta6jRuopqPVV"
      }
    },
    {
      "cell_type": "code",
      "execution_count": null,
      "source": [
        "test_predictions_label[:5]"
      ],
      "outputs": [
        {
          "output_type": "execute_result",
          "data": {
            "text/plain": [
              "array([1, 1, 1, 1, 0])"
            ]
          },
          "metadata": {
            "tags": []
          },
          "execution_count": 37
        }
      ],
      "metadata": {
        "colab": {
          "base_uri": "https://localhost:8080/"
        },
        "id": "g6m4MjXoSBmv",
        "outputId": "4ae0ef22-d17e-4b11-c2bd-949adb36ac41"
      }
    },
    {
      "cell_type": "code",
      "execution_count": null,
      "source": [
        "test_predictions_proba[:5]"
      ],
      "outputs": [
        {
          "output_type": "execute_result",
          "data": {
            "text/plain": [
              "array([[0.11821434, 0.88178566],\n",
              "       [0.07056997, 0.92943003],\n",
              "       [0.39505241, 0.60494759],\n",
              "       [0.24810099, 0.75189901],\n",
              "       [0.79814993, 0.20185007]])"
            ]
          },
          "metadata": {
            "tags": []
          },
          "execution_count": 38
        }
      ],
      "metadata": {
        "colab": {
          "base_uri": "https://localhost:8080/"
        },
        "id": "uSWrGIO2SGHd",
        "outputId": "a2509c1d-c9e1-4a9f-d175-0be881bb6472"
      }
    },
    {
      "cell_type": "code",
      "execution_count": null,
      "source": [
        "\r\n",
        "# Show metrics\r\n",
        "print(\"Accuracy score on train set: %f\" % accuracy_score(y_train, train_predictions_label))\r\n",
        "print(\"Accuracy score on test set: %f\" % accuracy_score(y_test, test_predictions_label))\r\n",
        "print(\"Confusion Matrix:\")\r\n",
        "print(confusion_matrix(y_test, test_predictions_label))\r\n",
        "print(classification_report(y_test, test_predictions_label))\r\n",
        "print('-----------')\r\n",
        "print('Log loss on train set:', log_loss(y_train, train_predictions_proba))\r\n",
        "print('Log loss on test set:', log_loss(y_test, test_predictions_proba))\r\n",
        "# Show parameters\r\n",
        "print('w = ', lg.coef_)\r\n",
        "print('b = ', lg.intercept_)"
      ],
      "outputs": [
        {
          "output_type": "stream",
          "name": "stdout",
          "text": [
            "Accuracy score on train set: 0.799157\n",
            "Accuracy score on test set: 0.793296\n",
            "Confusion Matrix:\n",
            "[[97 17]\n",
            " [20 45]]\n",
            "              precision    recall  f1-score   support\n",
            "\n",
            "           0       0.83      0.85      0.84       114\n",
            "           1       0.73      0.69      0.71        65\n",
            "\n",
            "    accuracy                           0.79       179\n",
            "   macro avg       0.78      0.77      0.77       179\n",
            "weighted avg       0.79      0.79      0.79       179\n",
            "\n",
            "-----------\n",
            "Log loss on train set: 0.4452845704337929\n",
            "Log loss on test set: 0.4466709454181867\n",
            "w =  [[-1.18387774  2.56284417 -0.04074789 -0.21591208]]\n",
            "b =  [2.84100084]\n"
          ]
        }
      ],
      "metadata": {
        "colab": {
          "base_uri": "https://localhost:8080/"
        },
        "id": "eQ9o74VB4LPV",
        "outputId": "d4da7b6a-7a3a-4761-bfa8-980f31cb6664"
      }
    },
    {
      "cell_type": "markdown",
      "source": [
        "### Handmade Logistic Regression"
      ],
      "metadata": {
        "id": "keQAhakRrJWs"
      }
    },
    {
      "cell_type": "markdown",
      "source": [
        "**Forward Propagation:**\n",
        "$$Z = Xw + b$$\n",
        "$$\\hat{y} = \\sigma(Z) =\\sigma(Xw + b) $$\n",
        "$$J(w, b) = -\\frac{1}{m}\\sum_{i=1}^m{ \\Big( y^{(i)} log( \\hat{y}^{(i)}) + (1-y^{(i)}) log(1 - \\hat{y}^{(i)}) \\Big)} \\tag{5}$$\n",
        "\n",
        "**and Backward**\n",
        "\n",
        "$$ \\frac{\\partial J}{\\partial w} = \\frac{1}{m}X^T(\\hat{y}-y)\\tag{6}$$\n",
        "$$ \\frac{\\partial J}{\\partial b} = \\frac{1}{m} \\sum_{i=1}^m (\\hat{y}^{(i)}-y^{(i)})\\tag{7}$$"
      ],
      "metadata": {
        "id": "IC0ZhoR3rXbO"
      }
    },
    {
      "cell_type": "code",
      "execution_count": null,
      "source": [
        "# Initialize params\r\n",
        "def initialize_params(X):\r\n",
        "    '''Initialize w, b with zeros and return'''\r\n",
        "    w = np.zeros((X.shape[1],1))\r\n",
        "    b = np.zeros((1,1))\r\n",
        "    return w, b"
      ],
      "outputs": [],
      "metadata": {
        "id": "adHOPx63q5xI"
      }
    },
    {
      "cell_type": "code",
      "execution_count": null,
      "source": [
        "# Implement sigmoid\r\n",
        "def sigmoid(Z):\r\n",
        "    y_hat = 1/(1 + np.e**(-Z))\r\n",
        "    return y_hat"
      ],
      "outputs": [],
      "metadata": {
        "id": "LgabqgGhr8B5"
      }
    },
    {
      "cell_type": "code",
      "execution_count": null,
      "source": [
        "# Forward propagation\r\n",
        "def forward(w, b, X):\r\n",
        "    '''Return y_hat'''\r\n",
        "    Z = X @ w + b\r\n",
        "    y_hat = sigmoid(Z)\r\n",
        "    return y_hat"
      ],
      "outputs": [],
      "metadata": {
        "id": "zK_0xR_fsFaD"
      }
    },
    {
      "cell_type": "code",
      "execution_count": null,
      "source": [
        "# Binary cross entropy loss\r\n",
        "def binary_cross_entropy(y, y_hat):\r\n",
        "    '''Calculate loss function J and return'''\r\n",
        "    m,n = y.shape\r\n",
        "    J = (-1/m)*sum(y*np.log(y_hat) + (1-y)*np.log(1-y_hat))\r\n",
        "    return J"
      ],
      "outputs": [],
      "metadata": {
        "id": "kCzZpPg9sX4c"
      }
    },
    {
      "cell_type": "code",
      "execution_count": null,
      "source": [
        "# Backward propagation\r\n",
        "def backward(X, y, y_hat, w, b):\r\n",
        "    '''Calculate dw, db and return'''\r\n",
        "    m,n = y.shape\r\n",
        "    dw = (1/m)*(X.T @(y_hat - y))\r\n",
        "    db = (1/m)*sum(y_hat - y)\r\n",
        "    return dw, db\r\n",
        "\r\n",
        "# Update parameters\r\n",
        "def update_params(w, b, dw, db, learning_rate):\r\n",
        "    '''Update w, b and return'''\r\n",
        "    w = w - learning_rate * dw\r\n",
        "    b = b - learning_rate * db\r\n",
        "    return w, b"
      ],
      "outputs": [],
      "metadata": {
        "id": "MhuGl5ATtT2d"
      }
    },
    {
      "cell_type": "code",
      "execution_count": null,
      "source": [
        "# Training process\r\n",
        "def train(X, y, iterations, learning_rate):\r\n",
        "    \r\n",
        "    history = {'train_loss': [],\r\n",
        "               'test_loss': []}\r\n",
        "\r\n",
        "    \r\n",
        "    w, b = initialize_params(X)\r\n",
        "\r\n",
        "    for i in range(iterations):\r\n",
        "# Step 2:\r\n",
        "      # Step 2a: forward pass\r\n",
        "      y_hat = forward(w, b, X)\r\n",
        "      # Step 2b: calculate loss\r\n",
        "      J = binary_cross_entropy(y, y_hat)\r\n",
        "      history['train_loss'].append(J)\r\n",
        "      # Test\r\n",
        "      y_hat_test = forward(w, b, X_test)\r\n",
        "      J_test = binary_cross_entropy(y_test, y_hat_test)\r\n",
        "      history['test_loss'].append(J_test)\r\n",
        "      # Step 2c: backward pass\r\n",
        "      dw, db = backward(X, y, y_hat, w, b)\r\n",
        "      # Step 2d: update params\r\n",
        "      w, b = update_params(w, b, dw, db, learning_rate)\r\n",
        "\r\n",
        "\r\n",
        "        # Similary to Linear Regression lab, you need to perform all 4 steps of training per iteration\r\n",
        "        # Note: As we use train and validation set, let's calculate train loss and test loss at every iteration\r\n",
        "        # then save it to history dictionary defined above\r\n",
        "        # Your progress now should look like this\r\n",
        "        # train => train loss => save train loss => test loss => train test loss => backward => params updat\r\n",
        "    return w, b, history"
      ],
      "outputs": [],
      "metadata": {
        "id": "8J3nYXjMupQa"
      }
    },
    {
      "cell_type": "code",
      "execution_count": null,
      "source": [
        "# Predict\r\n",
        "def predict(w, b, X):\r\n",
        "    '''Return predicted y of X. \r\n",
        "    Note that you will return the label (class), not the probability\r\n",
        "    '''\r\n",
        "    y_hat = forward(w, b, X)\r\n",
        "    for i in range(len(a)):\r\n",
        "        if y_hat[i][0]>= 0.5:\r\n",
        "            y_hat[i][0] = 1\r\n",
        "        else:\r\n",
        "            y_hat[i][0] = 0\r\n",
        "    return y_hat"
      ],
      "outputs": [],
      "metadata": {
        "id": "N6NGSUVpuVNA"
      }
    },
    {
      "cell_type": "markdown",
      "source": [
        "**Evaluation**"
      ],
      "metadata": {
        "id": "JTUDeY_fwIXx"
      }
    },
    {
      "cell_type": "code",
      "execution_count": null,
      "source": [
        "# Train the model and predict X_test\r\n",
        "w, b, history = train(X_train, y_train, iterations=20000, learning_rate=5e-3)\r\n",
        "predictions = predict(w, b, X_test) # label"
      ],
      "outputs": [],
      "metadata": {
        "id": "mDgSepfDwEHy"
      }
    },
    {
      "cell_type": "code",
      "execution_count": null,
      "source": [
        "# Evaluation\r\n",
        "print(\"Accuracy score on test set: %f\" % accuracy_score(y_test, predictions))\r\n",
        "print(\"Confusion Matrix:\")\r\n",
        "print(confusion_matrix(y_test, predictions))\r\n",
        "print(classification_report(y_test, predictions))\r\n",
        "\r\n",
        "# Show parameters\r\n",
        "print('w = ', lg.coef_)\r\n",
        "print('b = ', lg.intercept_)"
      ],
      "outputs": [
        {
          "output_type": "stream",
          "name": "stdout",
          "text": [
            "Accuracy score on test set: 0.815642\n",
            "Confusion Matrix:\n",
            "[[101  13]\n",
            " [ 20  45]]\n",
            "              precision    recall  f1-score   support\n",
            "\n",
            "           0       0.83      0.89      0.86       114\n",
            "           1       0.78      0.69      0.73        65\n",
            "\n",
            "    accuracy                           0.82       179\n",
            "   macro avg       0.81      0.79      0.80       179\n",
            "weighted avg       0.81      0.82      0.81       179\n",
            "\n",
            "w =  [[-1.18387774  2.56284417 -0.04074789 -0.21591208]]\n",
            "b =  [2.84100084]\n"
          ]
        }
      ],
      "metadata": {
        "id": "5yXlcgeRwZ3v",
        "colab": {
          "base_uri": "https://localhost:8080/"
        },
        "outputId": "e87ba2a5-0899-475d-d575-aa9cf72c38cf"
      }
    },
    {
      "cell_type": "code",
      "execution_count": null,
      "source": [
        "plt.figure(figsize=(10, 6))\r\n",
        "plt.plot(history['train_loss'], label='Training Loss', alpha=0.5)\r\n",
        "plt.plot(history['test_loss'], label='Test Loss', alpha=0.5)\r\n",
        "plt.legend()\r\n",
        "plt.show()"
      ],
      "outputs": [
        {
          "output_type": "display_data",
          "data": {
            "text/plain": [
              "<Figure size 720x432 with 1 Axes>"
            ],
            "image/png": "[encoded data removed]"
          },
          "metadata": {
            "tags": []
          }
        }
      ],
      "metadata": {
        "colab": {
          "base_uri": "https://localhost:8080/",
          "height": 374
        },
        "id": "xaHxH1Ay8m-V",
        "outputId": "9b87a747-bf49-40b3-aeeb-f09b7226328c"
      }
    },
    {
      "cell_type": "markdown",
      "source": [
        "![](https://www.researchgate.net/profile/Hayder_Al-Behadili/publication/325999203/figure/fig4/AS:641844216074241@1530038994324/Overfitting-and-underfitting-effect-on-error.png)"
      ],
      "metadata": {
        "id": "cIvEKOtJDg6P"
      }
    }
  ]
}